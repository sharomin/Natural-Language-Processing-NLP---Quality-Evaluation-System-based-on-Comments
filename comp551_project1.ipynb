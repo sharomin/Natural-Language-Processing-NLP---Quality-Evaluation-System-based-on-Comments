{
  "nbformat": 4,
  "nbformat_minor": 0,
  "metadata": {
    "colab": {
      "name": "comp551_project1.ipynb",
      "version": "0.3.2",
      "provenance": [],
      "collapsed_sections": [],
      "toc_visible": true
    },
    "kernelspec": {
      "name": "python3",
      "display_name": "Python 3"
    }
  },
  "cells": [
    {
      "metadata": {
        "id": "cFZNDSvROdJ2",
        "colab_type": "code",
        "colab": {}
      },
      "cell_type": "code",
      "source": [
        "import numpy as np\n",
        "import json\n",
        "import pandas as pd\n",
        "import matplotlib.pyplot as plt\n",
        "%matplotlib inline"
      ],
      "execution_count": 0,
      "outputs": []
    },
    {
      "metadata": {
        "id": "adifKEV9D_K_",
        "colab_type": "text"
      },
      "cell_type": "markdown",
      "source": [
        "# Task 1"
      ]
    },
    {
      "metadata": {
        "id": "1WzlufrMEF05",
        "colab_type": "code",
        "outputId": "814f779e-93da-45e2-c74c-12dc2ecd9a6f",
        "colab": {
          "base_uri": "https://localhost:8080/",
          "height": 104
        }
      },
      "cell_type": "code",
      "source": [
        "with open(\"reddit.json\") as fp:\n",
        "    data = json.load(fp)\n",
        "    \n",
        "# Now the data is loaded.\n",
        "# It a list of data points, where each datapoint is a dictionary with the following attributes:\n",
        "# popularity_score : a popularity score for this comment (based on the number of upvotes) (type: float)\n",
        "# children : the number of replies to this comment (type: int)\n",
        "# text : the text of this comment (type: string)\n",
        "# controversiality : a score for how \"controversial\" this comment is (automatically computed by Reddit)\n",
        "# is_root : if True, then this comment is a direct reply to a post; if False, this is a direct reply to another comment \n",
        "\n",
        "# Example:\n",
        "data_point = data[0] # select the first data point in the dataset\n",
        "\n",
        "encoded_data = pd.DataFrame.from_records(data)\n",
        "encoded_data.iloc[:,2] = np.where(encoded_data['is_root']==True, 1,0)\n",
        "\n",
        "# Now we print all the information about this datapoint\n",
        "for info_name, info_value in data_point.items():\n",
        "    print(info_name + \" : \" + str(info_value))"
      ],
      "execution_count": 0,
      "outputs": [
        {
          "output_type": "stream",
          "text": [
            "text : ITS RAINING SIDEWAYS\n",
            "is_root : False\n",
            "controversiality : 0\n",
            "children : 0\n",
            "popularity_score : 1.254698160267241\n"
          ],
          "name": "stdout"
        }
      ]
    },
    {
      "metadata": {
        "id": "SLjPGrSQO3Rk",
        "colab_type": "code",
        "colab": {}
      },
      "cell_type": "code",
      "source": [
        "sz_tr=10000; sz_val=1000; sz_test=1000\n",
        "\n",
        "train = encoded_data[:sz_tr]\n",
        "val = encoded_data[sz_tr:sz_tr+sz_val]\n",
        "test = encoded_data[sz_tr+sz_val:]"
      ],
      "execution_count": 0,
      "outputs": []
    },
    {
      "metadata": {
        "id": "keOTMjHG7ezV",
        "colab_type": "code",
        "outputId": "f1b94b90-e015-4c50-8ef5-39dcd78714d6",
        "colab": {
          "base_uri": "https://localhost:8080/",
          "height": 355
        }
      },
      "cell_type": "code",
      "source": [
        "def tokenize(str):\n",
        "    '''Tokenize text: Lower case and divide into words.'''\n",
        "    return str.lower().split(\" \")\n",
        "\n",
        "def build_dictionary(train_data, dict_size=160):\n",
        "    '''Build dictionary: Find words and count frequency.'''\n",
        "    # Create an output dictionary to store the word frequencies\n",
        "    dic = {}\n",
        "    out = []\n",
        "\n",
        "    # Loop over each sample of the training set\n",
        "    for sample in train_data:\n",
        "        # Split the sample text into lowercase words\n",
        "        tokens = tokenize(sample['text'])\n",
        "        # Accumulate words frequencies into the dictionary\n",
        "        for token in tokens:\n",
        "            if token in dic:\n",
        "                dic[token] += 1\n",
        "            else:\n",
        "                dic[token] = 1\n",
        "\n",
        "    # Select the most frequent words only\n",
        "    i = 0\n",
        "    for w in sorted(dic, key=dic.get, reverse=True):\n",
        "        out.append(w)\n",
        "        if i == dict_size:\n",
        "            break\n",
        "\n",
        "    # Return list of most frequent words\n",
        "    return out\n",
        "\n",
        "def str2vec(str, dic):\n",
        "    vec = [0] * len(dic)\n",
        "    words = tokenize(str)\n",
        "    for word in words:\n",
        "      pass\n",
        "      \n",
        "# Create dictionary\n",
        "dic = build_dictionary(train)\n",
        "print(dic)\n",
        "print(len(dic))\n",
        "\n",
        "dic.index(\"sdibfdbfiud\")"
      ],
      "execution_count": 0,
      "outputs": [
        {
          "output_type": "error",
          "ename": "TypeError",
          "evalue": "ignored",
          "traceback": [
            "\u001b[0;31m---------------------------------------------------------------------------\u001b[0m",
            "\u001b[0;31mTypeError\u001b[0m                                 Traceback (most recent call last)",
            "\u001b[0;32m<ipython-input-8-742f8ef493b2>\u001b[0m in \u001b[0;36m<module>\u001b[0;34m()\u001b[0m\n\u001b[1;32m     37\u001b[0m \u001b[0;34m\u001b[0m\u001b[0m\n\u001b[1;32m     38\u001b[0m \u001b[0;31m# Create dictionary\u001b[0m\u001b[0;34m\u001b[0m\u001b[0;34m\u001b[0m\u001b[0;34m\u001b[0m\u001b[0m\n\u001b[0;32m---> 39\u001b[0;31m \u001b[0mdic\u001b[0m \u001b[0;34m=\u001b[0m \u001b[0mbuild_dictionary\u001b[0m\u001b[0;34m(\u001b[0m\u001b[0mtrain\u001b[0m\u001b[0;34m)\u001b[0m\u001b[0;34m\u001b[0m\u001b[0;34m\u001b[0m\u001b[0m\n\u001b[0m\u001b[1;32m     40\u001b[0m \u001b[0mprint\u001b[0m\u001b[0;34m(\u001b[0m\u001b[0mdic\u001b[0m\u001b[0;34m)\u001b[0m\u001b[0;34m\u001b[0m\u001b[0;34m\u001b[0m\u001b[0m\n\u001b[1;32m     41\u001b[0m \u001b[0mprint\u001b[0m\u001b[0;34m(\u001b[0m\u001b[0mlen\u001b[0m\u001b[0;34m(\u001b[0m\u001b[0mdic\u001b[0m\u001b[0;34m)\u001b[0m\u001b[0;34m)\u001b[0m\u001b[0;34m\u001b[0m\u001b[0;34m\u001b[0m\u001b[0m\n",
            "\u001b[0;32m<ipython-input-8-742f8ef493b2>\u001b[0m in \u001b[0;36mbuild_dictionary\u001b[0;34m(train_data, dict_size)\u001b[0m\n\u001b[1;32m     12\u001b[0m     \u001b[0;32mfor\u001b[0m \u001b[0msample\u001b[0m \u001b[0;32min\u001b[0m \u001b[0mtrain_data\u001b[0m\u001b[0;34m:\u001b[0m\u001b[0;34m\u001b[0m\u001b[0;34m\u001b[0m\u001b[0m\n\u001b[1;32m     13\u001b[0m         \u001b[0;31m# Split the sample text into lowercase words\u001b[0m\u001b[0;34m\u001b[0m\u001b[0;34m\u001b[0m\u001b[0;34m\u001b[0m\u001b[0m\n\u001b[0;32m---> 14\u001b[0;31m         \u001b[0mtokens\u001b[0m \u001b[0;34m=\u001b[0m \u001b[0mtokenize\u001b[0m\u001b[0;34m(\u001b[0m\u001b[0msample\u001b[0m\u001b[0;34m[\u001b[0m\u001b[0;34m'text'\u001b[0m\u001b[0;34m]\u001b[0m\u001b[0;34m)\u001b[0m\u001b[0;34m\u001b[0m\u001b[0;34m\u001b[0m\u001b[0m\n\u001b[0m\u001b[1;32m     15\u001b[0m         \u001b[0;31m# Accumulate words frequencies into the dictionary\u001b[0m\u001b[0;34m\u001b[0m\u001b[0;34m\u001b[0m\u001b[0;34m\u001b[0m\u001b[0m\n\u001b[1;32m     16\u001b[0m         \u001b[0;32mfor\u001b[0m \u001b[0mtoken\u001b[0m \u001b[0;32min\u001b[0m \u001b[0mtokens\u001b[0m\u001b[0;34m:\u001b[0m\u001b[0;34m\u001b[0m\u001b[0;34m\u001b[0m\u001b[0m\n",
            "\u001b[0;31mTypeError\u001b[0m: string indices must be integers"
          ]
        }
      ]
    },
    {
      "metadata": {
        "id": "gZSqFrEERtbs",
        "colab_type": "code",
        "outputId": "3b6bfa8b-4a3d-46fe-f2e3-99b3885ff52c",
        "colab": {
          "base_uri": "https://localhost:8080/",
          "height": 288
        }
      },
      "cell_type": "code",
      "source": [
        "train = pd.DataFrame.from_records(train)\n",
        "train.describe()"
      ],
      "execution_count": 0,
      "outputs": [
        {
          "output_type": "execute_result",
          "data": {
            "text/html": [
              "<div>\n",
              "<style scoped>\n",
              "    .dataframe tbody tr th:only-of-type {\n",
              "        vertical-align: middle;\n",
              "    }\n",
              "\n",
              "    .dataframe tbody tr th {\n",
              "        vertical-align: top;\n",
              "    }\n",
              "\n",
              "    .dataframe thead th {\n",
              "        text-align: right;\n",
              "    }\n",
              "</style>\n",
              "<table border=\"1\" class=\"dataframe\">\n",
              "  <thead>\n",
              "    <tr style=\"text-align: right;\">\n",
              "      <th></th>\n",
              "      <th>children</th>\n",
              "      <th>controversiality</th>\n",
              "      <th>is_root</th>\n",
              "      <th>popularity_score</th>\n",
              "    </tr>\n",
              "  </thead>\n",
              "  <tbody>\n",
              "    <tr>\n",
              "      <th>count</th>\n",
              "      <td>10000.000000</td>\n",
              "      <td>10000.000000</td>\n",
              "      <td>10000.000000</td>\n",
              "      <td>10000.000000</td>\n",
              "    </tr>\n",
              "    <tr>\n",
              "      <th>mean</th>\n",
              "      <td>0.402400</td>\n",
              "      <td>0.011700</td>\n",
              "      <td>0.420700</td>\n",
              "      <td>0.864073</td>\n",
              "    </tr>\n",
              "    <tr>\n",
              "      <th>std</th>\n",
              "      <td>1.341288</td>\n",
              "      <td>0.107537</td>\n",
              "      <td>0.493696</td>\n",
              "      <td>1.168750</td>\n",
              "    </tr>\n",
              "    <tr>\n",
              "      <th>min</th>\n",
              "      <td>0.000000</td>\n",
              "      <td>0.000000</td>\n",
              "      <td>0.000000</td>\n",
              "      <td>-6.778971</td>\n",
              "    </tr>\n",
              "    <tr>\n",
              "      <th>25%</th>\n",
              "      <td>0.000000</td>\n",
              "      <td>0.000000</td>\n",
              "      <td>0.000000</td>\n",
              "      <td>0.305688</td>\n",
              "    </tr>\n",
              "    <tr>\n",
              "      <th>50%</th>\n",
              "      <td>0.000000</td>\n",
              "      <td>0.000000</td>\n",
              "      <td>0.000000</td>\n",
              "      <td>0.612912</td>\n",
              "    </tr>\n",
              "    <tr>\n",
              "      <th>75%</th>\n",
              "      <td>1.000000</td>\n",
              "      <td>0.000000</td>\n",
              "      <td>1.000000</td>\n",
              "      <td>1.086221</td>\n",
              "    </tr>\n",
              "    <tr>\n",
              "      <th>max</th>\n",
              "      <td>43.000000</td>\n",
              "      <td>1.000000</td>\n",
              "      <td>1.000000</td>\n",
              "      <td>8.373355</td>\n",
              "    </tr>\n",
              "  </tbody>\n",
              "</table>\n",
              "</div>"
            ],
            "text/plain": [
              "           children  controversiality       is_root  popularity_score\n",
              "count  10000.000000      10000.000000  10000.000000      10000.000000\n",
              "mean       0.402400          0.011700      0.420700          0.864073\n",
              "std        1.341288          0.107537      0.493696          1.168750\n",
              "min        0.000000          0.000000      0.000000         -6.778971\n",
              "25%        0.000000          0.000000      0.000000          0.305688\n",
              "50%        0.000000          0.000000      0.000000          0.612912\n",
              "75%        1.000000          0.000000      1.000000          1.086221\n",
              "max       43.000000          1.000000      1.000000          8.373355"
            ]
          },
          "metadata": {
            "tags": []
          },
          "execution_count": 9
        }
      ]
    },
    {
      "metadata": {
        "id": "ZEk9jA9tTTs0",
        "colab_type": "code",
        "outputId": "1857e32f-8373-4504-a415-dfc697116a37",
        "colab": {
          "base_uri": "https://localhost:8080/",
          "height": 280
        }
      },
      "cell_type": "code",
      "source": [
        "train['is_root'].value_counts().plot.bar()"
      ],
      "execution_count": 0,
      "outputs": [
        {
          "output_type": "execute_result",
          "data": {
            "text/plain": [
              "<matplotlib.axes._subplots.AxesSubplot at 0x7f8bfb3547b8>"
            ]
          },
          "metadata": {
            "tags": []
          },
          "execution_count": 12
        },
        {
          "output_type": "display_data",
          "data": {
            "image/png": "[encoded data removed]",
            "text/plain": [
              "<Figure size 432x288 with 1 Axes>"
            ]
          },
          "metadata": {
            "tags": []
          }
        }
      ]
    },
    {
      "metadata": {
        "id": "UNQ-tawjNyW-",
        "colab_type": "text"
      },
      "cell_type": "markdown",
      "source": [
        "Most comments have no children. So, it might be a correlation between the number of children and popularity. "
      ]
    },
    {
      "metadata": {
        "id": "eqvGT6QQNU55",
        "colab_type": "code",
        "outputId": "168f530c-19cd-4ef5-c362-5907a37bb7ae",
        "colab": {
          "base_uri": "https://localhost:8080/",
          "height": 285
        }
      },
      "cell_type": "code",
      "source": [
        "train['children'][train['children']>4].value_counts().plot.bar()"
      ],
      "execution_count": 0,
      "outputs": [
        {
          "output_type": "execute_result",
          "data": {
            "text/plain": [
              "<matplotlib.axes._subplots.AxesSubplot at 0x7f8bfac931d0>"
            ]
          },
          "metadata": {
            "tags": []
          },
          "execution_count": 21
        },
        {
          "output_type": "display_data",
          "data": {
            "image/png": "[encoded data removed]",
            "text/plain": [
              "<Figure size 432x288 with 1 Axes>"
            ]
          },
          "metadata": {
            "tags": []
          }
        }
      ]
    },
    {
      "metadata": {
        "id": "1j1JkF44OOtw",
        "colab_type": "text"
      },
      "cell_type": "markdown",
      "source": [
        "**Yes, there is a correlation.** Most comments with more than 10 replies are quite popular."
      ]
    },
    {
      "metadata": {
        "id": "g6EWgYwXOBaT",
        "colab_type": "code",
        "outputId": "bb4a83a6-0633-48c8-8003-9f7d2a026f4f",
        "colab": {
          "base_uri": "https://localhost:8080/",
          "height": 283
        }
      },
      "cell_type": "code",
      "source": [
        "x = train['children']\n",
        "o = np.argsort(x)\n",
        "plt.plot(x[o], train['popularity_score'][o], '-')"
      ],
      "execution_count": 0,
      "outputs": [
        {
          "output_type": "execute_result",
          "data": {
            "text/plain": [
              "[<matplotlib.lines.Line2D at 0x7f8bfaafa5c0>]"
            ]
          },
          "metadata": {
            "tags": []
          },
          "execution_count": 23
        },
        {
          "output_type": "display_data",
          "data": {
            "image/png": "[encoded data removed]",
            "text/plain": [
              "<Figure size 432x288 with 1 Axes>"
            ]
          },
          "metadata": {
            "tags": []
          }
        }
      ]
    },
    {
      "metadata": {
        "id": "uFAbJrXlOiMN",
        "colab_type": "text"
      },
      "cell_type": "markdown",
      "source": [
        "We are using only 160 words. We are not using many words, so using stop words or some other preprocessig might be crucial. "
      ]
    },
    {
      "metadata": {
        "id": "Ab7kcARuVp4g",
        "colab_type": "code",
        "outputId": "e1a3fb16-d16e-476d-ab45-10b7e9d7dff4",
        "colab": {
          "base_uri": "https://localhost:8080/",
          "height": 283
        }
      },
      "cell_type": "code",
      "source": [
        "x = train['text'].apply(len)\n",
        "o = np.argsort(x)\n",
        "plt.plot(x[o], train['popularity_score'][o], '-')\n",
        "plt.plot((160, 160), (-6, 8), 'k-')"
      ],
      "execution_count": 0,
      "outputs": [
        {
          "output_type": "execute_result",
          "data": {
            "text/plain": [
              "[<matplotlib.lines.Line2D at 0x7fae5cffe358>]"
            ]
          },
          "metadata": {
            "tags": []
          },
          "execution_count": 55
        },
        {
          "output_type": "display_data",
          "data": {
            "image/png": "[encoded data removed]",
            "text/plain": [
              "<Figure size 432x288 with 1 Axes>"
            ]
          },
          "metadata": {
            "tags": []
          }
        }
      ]
    },
    {
      "metadata": {
        "id": "plQvwR8AYIVn",
        "colab_type": "code",
        "outputId": "28e8eb01-9fab-468e-b02c-0d1ae8fc0db5",
        "colab": {
          "base_uri": "https://localhost:8080/",
          "height": 88
        }
      },
      "cell_type": "code",
      "source": [
        "train.iloc[o.tail(1)].values # Those big comments might be outliers. "
      ],
      "execution_count": 0,
      "outputs": [
        {
          "output_type": "execute_result",
          "data": {
            "text/plain": [
              "array([[0, 0, False, 0.4784100173851937,\n",
              "        'Honestly, /u/AndyWinds, when the slaves were brought over here to the USA, they came from many different countries and tribes in Africa. Their cultures were almost as diverse as the cultures that we have now [here]. And the truth is most of our history was \\'wiped away\\' through slavery. Acting and being anything but \"White\" was discouraged and many people died from it. They did whatever they had to do to survive so if that meant shaving their hair, making it straight, stopping the spread of their native language(s), bleaching the skin, the list goes on... \\n\\nHow this is relevant is that at the time is that to differentiate between the \"darks\" and \"lights,\" Black people were called, well, Black. And White people were called- you get my drift. This is only in the United States of America. [Black](https://en.wikipedia.org/wiki/Black_people) itself has different connotations all across the world so you will get different responses when you are calling someone from Brazil a Black person compared to someone from Canada or the United States. You\\'ll notice that pretty much everyone who considers themselves to be Black will also acknowledge that they have a lot of African ancestry down the line, though. (There\\'s the fact that Africa is also an incredibly huge continent and there are also White Africans so one would be under the assumption that if a White person from Africa comes to the USA that their race would be \"African American,\" but the reality is that they will still be called a White American. It\\'s all based on looks.. It\\'s an incredibly huge socially constructed value here in the USA).      \\n\\nAbout African American... Well, you can\\'t tell whether someone is African American or not just by looking at them. Some people might be from Nigeria (an African country), so they might call themselves a Nigerian-American after they get their citizenship. There are over 50 countries in Africa &amp; I\\'m sure you can imagine the confusion this can cause. People form other countries simply **will not** get it because race is a social construct and yet it still means *so much*. \\n\\nThis is why \"Black\" is kind of a word that we can all agree on here in the US. No matter if we are Jamaican, Somalian, Canadian, American, Brazilian, whatever... We can kind of agree with it. \\n\\nYou can add \"racial mixing\" to the mix and acknowledge that not all people who are dark skinned are completely Black, yet they are still forced to identify as [only] Black. For example, my nephew is half Puerto Rican (they are racially mixed with Spanish/Taino/African) and half Black, so no matter what he identifies more with, he will always be [just] \"Black.\" This makes a lot of people mad, specifically people who may be mixed with 50/50 or even with 3 different backgrounds because society will only see one part of them. This can be sad for a person who is mixed with \\'Black\\' or not.          \\n\\nAlso, the term \"Negro\" itself isn\\'t offensive. It literally means Black in Spanish/Portuguese and comes from the Latin word \\'niger\\' which also means Black. Believe it or not but at one point in time, \"negro\" was the politically correct word of choice. During the Civil Rights movement there was a divide in Black people about what our identity was because, well, it was wiped away from them. Some people wanted to get completely away from anything associated with the White people in America, so they decided to make up new terms. The White peoples\\' names for them went like this: n****r -&gt; colored -&gt; negro -&gt; and then there was a divide where the Black people themselves were divided in whether or not to choose from any of the following: Afro-American, Black American, and Negro. \\n\\nSome people still wanted to identify with the continent of Africa but understandably some grew up knowing *nothing* about where they were from &amp; with the White people treating you more harshly the more Black/African you identified with, they wanted to stay away from it. \\n\\nSo basically you got people of all ages with different economical backgrounds (some were mixed with White or were generally mixed-looking or flat out White-passing) and different political views (think: the more violent Malcom X versus Martin Luther King Jr.) trying to come up with the same end POV. It hasn\\'t happened and still hasn\\'t happened. Nowadays youth will use the words interchangeably-- well, except for \"negro\" and \"afro-american\" because those just sound weird, haha! But you\\'ll get the oldest Black people still identifying with those outdated words. With that said there are still organizations, businesses, and college funds that used the term negro in them so the word \\'negro\\' is completely okay when used for historical purposes. When you see young Black people calling other Black people negros, please know that 99% of them are not serious. They will look at you strange if you call them negros in the USA. \\n\\nWith that said, here\\'s [one of my favorite](https://www.youtube.com/watch?v=C8xJXKYL8pU) YouTube videos about apologizing if someone says what you\\'ve said offends them. You don\\'t really have to agree with everything she says but it\\'s a great way to do damage control. Just call Black people Black and you shouldn\\'t ever have a problem in North America. Can\\'t help you with other parts of the continent or other continents because \\'race\\' means completely different things there but just be confident in your speaking and apologize even if you\\'re thinking \\'wtf? how the f#ck could that offend you?\\' and try not to twitch and you\\'ll be fine, lol. :) Even I\\'ve had to do it &amp; re-educate myself. \\n\\nOkay, wow. So I am all over the world with my comment but I hope that I at least enlightened you a little bit. I am sorry if something I say is more confusing than it helps. I do hope that you won\\'t be apprehensive about approaching us anymore, though. The more you acknowledge our differences and are okay with them, the cooler we will think you are. :)']],\n",
              "      dtype=object)"
            ]
          },
          "metadata": {
            "tags": []
          },
          "execution_count": 10
        }
      ]
    },
    {
      "metadata": {
        "id": "FxKHTEEWEIU4",
        "colab_type": "text"
      },
      "cell_type": "markdown",
      "source": [
        "# Task 2"
      ]
    },
    {
      "metadata": {
        "id": "ycsNA7oJIS5b",
        "colab_type": "code",
        "colab": {}
      },
      "cell_type": "code",
      "source": [
        "class LearningRate():\n",
        "    \"\"\"Decreases the gradient by fixed learning rate.\"\"\"\n",
        "    def __init__(self, lr=10e-6):\n",
        "        self.lr = lr\n",
        "\n",
        "    def compute(self, dw):\n",
        "        return self.lr * dw\n",
        "\n",
        "\n",
        "class Decay(LearningRate):\n",
        "    \"\"\"Decreaces the gradient each iteration at a decay rate.\"\"\"\n",
        "    def __init__(self, lr=10e-3, b=10e-4):\n",
        "        super().__init__(lr)\n",
        "        self.b = b\n",
        "        self.decay_step = 1\n",
        "\n",
        "    def compute(self, dw):\n",
        "        decay = self.lr / (1 + self.b * self.decay_step)\n",
        "        self.decay_step += 1\n",
        "        return decay * dw\n",
        "\n",
        "\n",
        "class Momentum(LearningRate):\n",
        "    \"\"\"GD with momentum. In this case, the grad gives information about the \n",
        "    acceleration and the momentum gives the velocity.\"\"\"\n",
        "    def __init__(self, lr=10e-3, b=0.9):\n",
        "        super().__init__(lr)\n",
        "        self.b = b\n",
        "        self.momentum = 0\n",
        "\n",
        "    def compute(self, dw):\n",
        "        self.momentum = (self.momentum + dw) / 2\n",
        "        grad = self.b * self.momentum + (1 - self.b) * dw\n",
        "        return self.lr * grad"
      ],
      "execution_count": 0,
      "outputs": []
    },
    {
      "metadata": {
        "id": "TPJKunwqEJGl",
        "colab_type": "code",
        "colab": {}
      },
      "cell_type": "code",
      "source": [
        "class LinearClassifier():\n",
        "    \"\"\" Base class for linear classifiers. \"\"\"\n",
        "\n",
        "    def __init__(self, lr=None):\n",
        "        self.w = None\n",
        "        self.lr = lr\n",
        "\n",
        "    def fit(self, X, y):\n",
        "        \"\"\"Builds a model given the input data.\n",
        "        :param X: input data. Values must be numeric.\n",
        "        :param y: target variable.\n",
        "        :return:\n",
        "        \"\"\"\n",
        "        raise Exception('I cannot train...')\n",
        "\n",
        "    def pred(self, X):\n",
        "        \"\"\"Predicts values for the input data given.\n",
        "        :param X: input data.\n",
        "        \"\"\"\n",
        "        X = self.preprocess_input(X)\n",
        "        return X.dot(self.w)\n",
        "\n",
        "    def preprocess_input(self, X, y):\n",
        "        X = X.reshape(X.shape[0], -1)\n",
        "        bias = np.ones((X.shape[0], 1))\n",
        "        X = np.hstack((X, bias))\n",
        "\n",
        "        y = y if len(y.shape) > 1 else y[:, np.newaxis]\n",
        "        return X, y\n",
        "\n",
        "\n",
        "class LinearRegressionMSE(LinearClassifier):\n",
        "    \"\"\"Linear regression using closed-form solution.\"\"\"\n",
        "\n",
        "    def fit(self, X, y):\n",
        "        X, y = self.preprocess_input(X, y)\n",
        "        self.w = np.linalg.inv(X.T.dot(X)).dot(X.T.dot(y))\n",
        "        return self\n",
        "\n",
        "\n",
        "class LinearRegressionGD(LinearClassifier):\n",
        "    \"\"\"Linear regression using gradient descent.\"\"\"\n",
        "\n",
        "    def __init__(self, lr):\n",
        "        super().__init__(lr)\n",
        "        self.step = 0\n",
        "\n",
        "    def fit(self, X, y, tol=10e-9):\n",
        "        X, y = self.preprocess_input(X, y)\n",
        "        # init value of weights\n",
        "        w_ = np.random.rand(X.shape[1], 1)\n",
        "        self.w = np.ones((X.shape[1], 1))\n",
        "        error = 1\n",
        "\n",
        "        while (error > tol):\n",
        "            dw = 2 * (X.T.dot(X).dot(w_) - X.T.dot(y))\n",
        "            w_ -= self.lr.compute(dw)\n",
        "\n",
        "            error = np.linalg.norm(np.abs(self.w - w_), 2)\n",
        "            self.w = w_.copy()\n",
        "            self.step += 1\n",
        "        return self"
      ],
      "execution_count": 0,
      "outputs": []
    },
    {
      "metadata": {
        "id": "RtxJjL-RIamI",
        "colab_type": "code",
        "colab": {}
      },
      "cell_type": "code",
      "source": [
        "x = np.array([.86, .09, -.85, .87, -.44, -.43, -1.1, .40, -.96, .17])\n",
        "y = np.array([2.49, .83, -.25, 3.1, .87, .02, -.12, 1.81, -.83, .43])\n",
        "\n",
        "lse = LinearRegressionMSE()\n",
        "lse.fit(x, y)\n",
        "exact = lse.w"
      ],
      "execution_count": 0,
      "outputs": []
    },
    {
      "metadata": {
        "id": "NiYrtDq9JG0p",
        "colab_type": "code",
        "colab": {}
      },
      "cell_type": "code",
      "source": [
        "lr = [LearningRate(),Decay(),Momentum()]\n",
        "steps = []\n",
        "error = []\n",
        "\n",
        "for lr in lr:\n",
        "    regressor = LinearRegressionGD(lr)\n",
        "    regressor.fit(x, y)\n",
        "    steps.append(regressor.step)\n",
        "    error.append(np.mean(np.abs(exact - regressor.w)))"
      ],
      "execution_count": 0,
      "outputs": []
    },
    {
      "metadata": {
        "id": "8-76zaO3cbsL",
        "colab_type": "code",
        "outputId": "580e5f07-f4f5-44bb-d2db-147f77a61bff",
        "colab": {
          "base_uri": "https://localhost:8080/",
          "height": 69
        }
      },
      "cell_type": "code",
      "source": [
        "lr_lbl = [\"Constant\", \"Decay\", \"Momentum\"]\n",
        "for i, lbl in enumerate(lr_lbl):\n",
        "  print(\"{} (steps={}, error={})\".format(lbl, steps[i], error[i]))"
      ],
      "execution_count": 0,
      "outputs": [
        {
          "output_type": "stream",
          "text": [
            "Constant (steps=105194, error=6.65509095483241e-05)\n",
            "Decay (steps=188, error=6.91381863981988e-08)\n",
            "Momentum (steps=155, error=5.2787293869371865e-08)\n"
          ],
          "name": "stdout"
        }
      ]
    },
    {
      "metadata": {
        "id": "t1xb_0sfEJqd",
        "colab_type": "text"
      },
      "cell_type": "markdown",
      "source": [
        "# Task 3"
      ]
    },
    {
      "metadata": {
        "id": "aoOpnxvaEKhT",
        "colab_type": "code",
        "colab": {}
      },
      "cell_type": "code",
      "source": [
        ""
      ],
      "execution_count": 0,
      "outputs": []
    }
  ]
}